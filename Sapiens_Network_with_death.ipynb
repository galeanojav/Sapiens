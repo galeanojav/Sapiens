{
 "cells": [
  {
   "cell_type": "markdown",
   "metadata": {},
   "source": [
    "# Initial Sapiens Network\n",
    "\n",
    "The initial seed is built up with two familiar units, and a few solitaire nodes. Then, we randomly choose a node in the network, if it has neighbors, we choose 1. If he/she is her/his partner, they have offspring and update the age of the all nodes. If it hasn't neighbors, we choose a node from the network, if the new node has different sex, they will are married.  "
   ]
  },
  {
   "cell_type": "code",
   "execution_count": 578,
   "metadata": {},
   "outputs": [],
   "source": [
    "import numpy as np\n",
    "import networkx as nx\n",
    "from pylab import *"
   ]
  },
  {
   "cell_type": "code",
   "execution_count": 579,
   "metadata": {},
   "outputs": [],
   "source": [
    "def Initial_Set():\n",
    "    \n",
    "    global g\n",
    "    # Creating a new empty Graph object\n",
    "    g=nx.Graph()\n",
    "    \n",
    "    #adding a brunch of nodes at once\n",
    "    g.add_nodes_from(['Adan','Eva','Cain','Maria','Set','Magdalen'])\n",
    "    \n",
    "    #adding properties to the nodes\n",
    "    \n",
    "    g.node['Adan']['sex']='Male'\n",
    "    g.node['Eva']['sex']='Female'\n",
    "    g.node['Cain']['sex']='Male'\n",
    "    g.node['Maria']['sex']='Female'\n",
    "    g.node['Set']['sex']='Male'\n",
    "    g.node['Magdalen']['sex']='Female'\n",
    "\n",
    "    g.node['Adan']['age']=30\n",
    "    g.node['Eva']['age']=30\n",
    "    g.node['Cain']['age']=15\n",
    "    g.node['Maria']['age']=15\n",
    "    g.node['Set']['age']=10\n",
    "    g.node['Magdalen']['age']=10\n",
    "\n",
    "    \n",
    "    #adding edges\n",
    "    \n",
    "    g.add_edge('Adan', 'Eva', weight=1.5)\n",
    "    g.add_edge('Adan', 'Cain', weight=1.0)\n",
    "    g.add_edge('Adan', 'Maria', weight=1.0)\n",
    "    g.add_edge('Eva', 'Cain', weight=1.0)\n",
    "    g.add_edge('Eva', 'Maria', weight=1.0)\n",
    "    g.add_edge('Cain', 'Maria', weight=0.5)\n",
    "    \n",
    "\n"
   ]
  },
  {
   "cell_type": "code",
   "execution_count": 580,
   "metadata": {},
   "outputs": [],
   "source": [
    "def Union_set():\n",
    "    global g,h,G\n",
    "    h = g.copy()\n",
    "\n",
    "    G = nx.disjoint_union(g,h)\n",
    "\n",
    "    G.add_edge(3,6,weight=1.5)\n",
    "    update_age()\n",
    "    "
   ]
  },
  {
   "cell_type": "code",
   "execution_count": 581,
   "metadata": {},
   "outputs": [],
   "source": [
    "def update_age():\n",
    "    global G\n",
    "    for i in G.node:\n",
    "        G.node[i]['age'] +=1\n"
   ]
  },
  {
   "cell_type": "code",
   "execution_count": 582,
   "metadata": {},
   "outputs": [],
   "source": [
    "def Plot_network(G):\n",
    "\n",
    "    elarge = [(u, v) for (u, v, d) in G.edges(data=True) if d['weight'] > 1.0]\n",
    "    emedium = [(u, v) for (u, v, d) in G.edges(data=True) if d['weight'] == 1.0]\n",
    "    esmall = [(u, v) for (u, v, d) in G.edges(data=True) if d['weight'] < 1.0]\n",
    "    node_c = ['b' if G.node[i]['sex']=='Male' else 'r' for i in G.node]\n",
    "    node_s = [G.node[i]['age'] for i in G.node]\n",
    "\n",
    "    pos = nx.spring_layout(G)\n",
    "\n",
    "\n",
    "# nodes\n",
    "    nx.draw_networkx_nodes(G, pos, node_size=node_s, node_color = node_c)\n",
    "\n",
    "\n",
    "# edges\n",
    "    nx.draw_networkx_edges(G, pos, edgelist=elarge,width=4)\n",
    "    nx.draw_networkx_edges(G, pos, edgelist=emedium,\n",
    "                       width=3, alpha=0.5, edge_color='y', style='solid')\n",
    "    nx.draw_networkx_edges(G, pos, edgelist=esmall,\n",
    "                       width=2, alpha=0.3, edge_color='g', style='dashed')\n",
    "\n",
    "# labels\n",
    "    #nx.draw_networkx_labels(G, pos, font_size=12, font_family='sans-serif')\n",
    "\n",
    "    axis('off')\n",
    "    title('First Spaiens families')\n",
    "    figure(figsize=(20, 20));\n",
    "    show()\n"
   ]
  },
  {
   "cell_type": "code",
   "execution_count": 1000,
   "metadata": {},
   "outputs": [],
   "source": [
    "def new_birth(new_node,first,vecino):\n",
    "    \"\"\"function to make a new baby. Need to intoduce the siblings edges\"\"\"\n",
    "    \n",
    "    G.add_node(new_node)\n",
    "    G.node[new_node]['sex']=choice(['Male','Female'])\n",
    "    G.node[new_node]['age']=1\n",
    "    G.add_edge(new_node, first, weight=1.0)\n",
    "    G.add_edge(new_node, vecino, weight=1.0)\n",
    "    \n",
    "    # Buscamos hermanos \n",
    "    \n",
    "    siblings =list(set(G.neighbors(first)) & set(G.neighbors(vecino)))\n",
    "    if siblings:\n",
    "        for i in siblings:\n",
    "            G.add_edge(new_node,i, weight=0.5)\n",
    "\n",
    "    \n",
    "def new_death(old=80):\n",
    "    \"\"\"Function to death nodes in the network. Use a threshold of maximum age, called old  \"\"\"\n",
    "    \n",
    "    global G\n",
    "    dead = np.random.choice(G.node())\n",
    "    if  old< (G.node[dead]['age']):\n",
    "        G.remove_node(dead)\n",
    "        \n",
    "\n",
    "def rand_death():\n",
    "    \"\"\"Function to death nodes in the network randomly. \n",
    "    De momento no encuentro una manera razonable que dependa de una probabilidad\n",
    "    la elección al azar de un nodo. Esta forma hace que mueran muchos nodos y no crece la red\"\"\"\n",
    "    \n",
    "    global G\n",
    "    \n",
    "    #edades = [G.node[i]['age'] for i in G.nodes]\n",
    "    #media = np.mean(edades)\n",
    "    #sigma =5\n",
    "    \n",
    "    dead = np.random.choice(G.node())\n",
    "    if  np.random.random() < (1.0/(G.node[dead]['age'])):\n",
    "        G.remove_node(dead)\n",
    "\n",
    "    "
   ]
  },
  {
   "cell_type": "code",
   "execution_count": 1012,
   "metadata": {},
   "outputs": [],
   "source": [
    "def stat_net():\n",
    "    print(G.number_of_nodes())\n",
    "    print(G.number_of_edges())\n",
    "    print(nx.density(G))\n",
    "    "
   ]
  },
  {
   "cell_type": "code",
   "execution_count": 1037,
   "metadata": {},
   "outputs": [],
   "source": [
    "def Build_Net():\n",
    "    \n",
    "    global G\n",
    "    \n",
    "    first = np.random.choice(G.nodes())   # Choose randomly a node\n",
    "\n",
    "    nodes_vecinos = list(G.neighbors(first))            \n",
    "    nodes_out = list(set(G.nodes()) - set(nodes_vecinos))\n",
    "\n",
    "    if nodes_vecinos:\n",
    "        vecino = choice(nodes_vecinos)\n",
    "        if G.edges[first,vecino]['weight']>1.0:\n",
    "            new_node = np.max(list(G.nodes()))+1\n",
    "            update_age()\n",
    "            new_birth(new_node,first,vecino)\n",
    "            \n",
    "        else:\n",
    "            pass\n",
    "            #otro = choice(nodes_out)\n",
    "            #if G.node[first]['sex'] != G.node[otro]['sex']:\n",
    "            #    G.add_edge(otro, first, weight=1.5)\n",
    "\n",
    "\n",
    "    else:\n",
    "        second = np.random.choice(G.nodes())\n",
    "\n",
    "        if G.node[first]['sex'] != G.node[second]['sex']:\n",
    "            # Polygamy is permited \n",
    "            G.add_edge(second, first, weight=1.5)\n",
    "            new_node = np.max(list(G.nodes()))+1\n",
    "            update_age()\n",
    "            new_birth(new_node,first,second)\n",
    "            \n",
    "    old_age=70\n",
    "    new_death(old_age)\n",
    "\n"
   ]
  },
  {
   "cell_type": "code",
   "execution_count": 1038,
   "metadata": {},
   "outputs": [
    {
     "data": {
      "image/png": "[encoded data removed]",
      "text/plain": [
       "<Figure size 432x288 with 1 Axes>"
      ]
     },
     "metadata": {},
     "output_type": "display_data"
    },
    {
     "data": {
      "text/plain": [
       "<Figure size 1440x1440 with 0 Axes>"
      ]
     },
     "metadata": {},
     "output_type": "display_data"
    }
   ],
   "source": [
    "Initial_Set()\n",
    "Union_set()\n",
    "Plot_network(G)"
   ]
  },
  {
   "cell_type": "code",
   "execution_count": 1039,
   "metadata": {},
   "outputs": [
    {
     "data": {
      "image/png": "[encoded data removed]",
      "text/plain": [
       "<Figure size 432x288 with 1 Axes>"
      ]
     },
     "metadata": {},
     "output_type": "display_data"
    },
    {
     "data": {
      "text/plain": [
       "<Figure size 1440x1440 with 0 Axes>"
      ]
     },
     "metadata": {},
     "output_type": "display_data"
    }
   ],
   "source": [
    "while G.number_of_nodes()<50:\n",
    "    Build_Net()\n",
    "    \n",
    "Plot_network(G)"
   ]
  },
  {
   "cell_type": "code",
   "execution_count": 1048,
   "metadata": {},
   "outputs": [
    {
     "name": "stdout",
     "output_type": "stream",
     "text": [
      "number of nodes =50\n",
      "number of edges =238\n",
      "density =0.19428571428571428\n",
      "[69, 69, 54, 54, 49, 49, 69, 69, 54, 54, 49, 49, 38, 37, 36, 35, 34, 33, 32, 31, 30, 29, 28, 27, 26, 25, 24, 23, 22, 21, 20, 19, 18, 17, 16, 15, 14, 13, 12, 11, 10, 9, 8, 7, 6, 5, 4, 3, 2, 1]\n",
      "28.58\n"
     ]
    },
    {
     "data": {
      "image/png": "[encoded data removed]",
      "text/plain": [
       "<Figure size 432x288 with 1 Axes>"
      ]
     },
     "metadata": {},
     "output_type": "display_data"
    }
   ],
   "source": [
    "def Q_Hist():\n",
    "    \n",
    "    global G\n",
    "    \n",
    "    print('number of nodes ={}'.format(G.number_of_nodes()))\n",
    "    print('number of edges ={}'.format(G.number_of_edges()))\n",
    "    print('density ={}'.format(nx.density(G)))\n",
    "    \n",
    "    mediada = [G.node[i]['age'] for i in G.nodes]\n",
    "    print(mediada)\n",
    "    print('mean of ages ={}'.format(np.mean(mediada)))\n",
    "    hist(mediada, bins=7) \n",
    "    title(\"histogram\") \n",
    "    show()\n",
    "    \n",
    "Q_Hist()"
   ]
  },
  {
   "cell_type": "markdown",
   "metadata": {},
   "source": [
    "## Seccion para hacer las pruebas una a una"
   ]
  },
  {
   "cell_type": "code",
   "execution_count": 1030,
   "metadata": {},
   "outputs": [
    {
     "data": {
      "image/png": "[encoded data removed]",
      "text/plain": [
       "<Figure size 432x288 with 1 Axes>"
      ]
     },
     "metadata": {},
     "output_type": "display_data"
    },
    {
     "data": {
      "text/plain": [
       "<Figure size 1440x1440 with 0 Axes>"
      ]
     },
     "metadata": {},
     "output_type": "display_data"
    }
   ],
   "source": [
    "Initial_Set()\n",
    "Union_set()\n",
    "Plot_network(G)"
   ]
  },
  {
   "cell_type": "code",
   "execution_count": 1031,
   "metadata": {},
   "outputs": [
    {
     "name": "stdout",
     "output_type": "stream",
     "text": [
      "8\n",
      "[6, 7, 9]\n",
      "[0, 1, 2, 3, 4, 5, 8, 10, 11]\n",
      "12\n",
      "[31, 31, 16, 16, 11, 11, 31, 31, 16, 16, 11, 11]\n",
      "19.333333333333332\n"
     ]
    }
   ],
   "source": [
    "first = np.random.choice(G.nodes())\n",
    "print(first)\n",
    "\n",
    "nodes_vecinos = list(G.neighbors(first))\n",
    "nodes_out = list(set(G.nodes()) - set(nodes_vecinos))\n",
    "    \n",
    "print(nodes_vecinos)\n",
    "print(nodes_out)\n",
    "\n",
    "if nodes_vecinos:\n",
    "    vecino = np.random.choice(nodes_vecinos)\n",
    "    #print(vecino)\n",
    "    if G.edges[first,vecino]['weight']>1.0:\n",
    "        new_node = np.max(list(G.nodes()))+1\n",
    "        #print(new_node)\n",
    "        update_age()\n",
    "        new_birth(new_node,first,vecino)\n",
    "        \n",
    "    else:\n",
    "        pass\n",
    "else:\n",
    "    second = np.random.choice(G.nodes())\n",
    "\n",
    "    if G.node[first]['sex'] != G.node[second]['sex']:\n",
    "        # Polygamy is permited \n",
    "        G.add_edge(second, first, weight=1.5)\n",
    "        new_node = np.max(list(G.nodes()))+1\n",
    "        update_age()\n",
    "        new_birth(new_node,first,second)\n",
    "       \n",
    "\n",
    "                       \n",
    "#update_age()\n",
    "#Plot_network(G)\n",
    "#new_death()\n",
    "#rand_death()\n",
    "print(G.number_of_nodes())\n",
    "mediada = [G.node[i]['age'] for i in G.nodes]\n",
    "print(mediada)\n",
    "print(np.mean(mediada))"
   ]
  },
  {
   "cell_type": "code",
   "execution_count": 1032,
   "metadata": {},
   "outputs": [
    {
     "data": {
      "text/plain": [
       "NodeView((0, 1, 2, 3, 4, 5, 6, 7, 8, 9, 10, 11))"
      ]
     },
     "execution_count": 1032,
     "metadata": {},
     "output_type": "execute_result"
    }
   ],
   "source": [
    "G.nodes()"
   ]
  },
  {
   "cell_type": "code",
   "execution_count": 1033,
   "metadata": {},
   "outputs": [
    {
     "data": {
      "text/plain": [
       "11"
      ]
     },
     "execution_count": 1033,
     "metadata": {},
     "output_type": "execute_result"
    }
   ],
   "source": [
    "G.node[4]['age']"
   ]
  },
  {
   "cell_type": "code",
   "execution_count": null,
   "metadata": {},
   "outputs": [],
   "source": []
  }
 ],
 "metadata": {
  "kernelspec": {
   "display_name": "Python 3",
   "language": "python",
   "name": "python3"
  },
  "language_info": {
   "codemirror_mode": {
    "name": "ipython",
    "version": 3
   },
   "file_extension": ".py",
   "mimetype": "text/x-python",
   "name": "python",
   "nbconvert_exporter": "python",
   "pygments_lexer": "ipython3",
   "version": "3.6.5"
  }
 },
 "nbformat": 4,
 "nbformat_minor": 2
}
