{
 "cells": [
  {
   "cell_type": "code",
   "execution_count": 1,
   "metadata": {},
   "outputs": [],
   "source": [
    "import numpy as np\n",
    "import networkx as nx\n",
    "from pylab import *"
   ]
  },
  {
   "cell_type": "code",
   "execution_count": 2,
   "metadata": {},
   "outputs": [],
   "source": [
    "def Initial_Set():\n",
    "    \n",
    "    global g\n",
    "    # Creating a new empty Graph object\n",
    "    g=nx.Graph()\n",
    "    \n",
    "    #adding a brunch of nodes at once\n",
    "    g.add_nodes_from(['Adan','Eva','Cain','Maria','Set','Magdalen'])\n",
    "    \n",
    "    #adding properties to the nodes\n",
    "    \n",
    "    g.node['Adan']['sex']='Male'\n",
    "    g.node['Eva']['sex']='Female'\n",
    "    g.node['Cain']['sex']='Male'\n",
    "    g.node['Maria']['sex']='Female'\n",
    "    g.node['Set']['sex']='Male'\n",
    "    g.node['Magdalen']['sex']='Female'\n",
    "\n",
    "    g.node['Adan']['age']=30\n",
    "    g.node['Eva']['age']=30\n",
    "    g.node['Cain']['age']=15\n",
    "    g.node['Maria']['age']=15\n",
    "    g.node['Set']['age']=10\n",
    "    g.node['Magdalen']['age']=10\n",
    "\n",
    "    \n",
    "    #adding edges\n",
    "    \n",
    "    g.add_edge('Adan', 'Eva', weight=1.5)\n",
    "    g.add_edge('Adan', 'Cain', weight=1.0)\n",
    "    g.add_edge('Adan', 'Maria', weight=1.0)\n",
    "    g.add_edge('Eva', 'Cain', weight=1.0)\n",
    "    g.add_edge('Eva', 'Maria', weight=1.0)\n",
    "    g.add_edge('Cain', 'Maria', weight=0.5)\n",
    "    \n",
    "\n"
   ]
  },
  {
   "cell_type": "code",
   "execution_count": 3,
   "metadata": {},
   "outputs": [],
   "source": [
    "def Union_set():\n",
    "    global g,h,G\n",
    "    h = g.copy()\n",
    "\n",
    "    G = nx.disjoint_union(g,h)\n",
    "\n",
    "    G.add_edge(3,6,weight=1.5)\n",
    "    update_age()\n",
    "    "
   ]
  },
  {
   "cell_type": "code",
   "execution_count": 4,
   "metadata": {},
   "outputs": [],
   "source": [
    "def update_age():\n",
    "    global G\n",
    "    for i in G.node:\n",
    "        G.node[i]['age'] +=1\n"
   ]
  },
  {
   "cell_type": "code",
   "execution_count": 5,
   "metadata": {},
   "outputs": [],
   "source": [
    "def Plot_network(G):\n",
    "\n",
    "    elarge = [(u, v) for (u, v, d) in G.edges(data=True) if d['weight'] > 1.0]\n",
    "    emedium = [(u, v) for (u, v, d) in G.edges(data=True) if d['weight'] == 1.0]\n",
    "    esmall = [(u, v) for (u, v, d) in G.edges(data=True) if d['weight'] < 1.0]\n",
    "    node_c = ['b' if G.node[i]['sex']=='Male' else 'r' for i in G.node]\n",
    "    node_s = [G.node[i]['age'] for i in G.node]\n",
    "\n",
    "    pos = nx.spring_layout(G)\n",
    "\n",
    "\n",
    "# nodes\n",
    "    nx.draw_networkx_nodes(G, pos, node_size=node_s, node_color = node_c)\n",
    "\n",
    "\n",
    "# edges\n",
    "    nx.draw_networkx_edges(G, pos, edgelist=elarge,width=4)\n",
    "    nx.draw_networkx_edges(G, pos, edgelist=emedium,\n",
    "                       width=3, alpha=0.5, edge_color='y', style='solid')\n",
    "    nx.draw_networkx_edges(G, pos, edgelist=esmall,\n",
    "                       width=2, alpha=0.3, edge_color='g', style='dashed')\n",
    "\n",
    "# labels\n",
    "    #nx.draw_networkx_labels(G, pos, font_size=12, font_family='sans-serif')\n",
    "\n",
    "    axis('off')\n",
    "    title('First Spaiens families')\n",
    "    figure(figsize=(20, 20));\n",
    "    show()\n"
   ]
  },
  {
   "cell_type": "code",
   "execution_count": 548,
   "metadata": {},
   "outputs": [],
   "source": [
    "def new_birth(new_node,first,vecino):\n",
    "    \"\"\"function to make a new baby. Need to intoduce the siblings edges\"\"\"\n",
    "    \n",
    "    G.add_node(new_node)\n",
    "    G.node[new_node]['sex']=choice(['Male','Female'])\n",
    "    G.node[new_node]['age']=1\n",
    "    G.add_edge(new_node, first, weight=1.0)\n",
    "    G.add_edge(new_node, vecino, weight=1.0)\n",
    "    \n",
    "    # Buscamos hermanos \n",
    "    \n",
    "    siblings =list(set(G.neighbors(first)) & set(G.neighbors(vecino)))\n",
    "    if siblings:\n",
    "        for i in siblings:\n",
    "            G.add_edge(new_node,i, weight=0.5)\n",
    "\n",
    "    \n",
    "def new_death(old=80):\n",
    "    \"\"\"Function to death nodes in the network. The problem is that we need to reorder \n",
    "    the number of the nodes or we need to look for nodes into the correct list \"\"\"\n",
    "    \n",
    "    global G\n",
    "    dead = np.random.choice(G.node())\n",
    "    if  old< (G.node[dead]['age']):\n",
    "        G.remove_node(dead)\n",
    "        \n",
    "\n",
    "    "
   ]
  },
  {
   "cell_type": "code",
   "execution_count": 571,
   "metadata": {},
   "outputs": [],
   "source": [
    "def stat_net():\n",
    "    print(G.number_of_nodes())\n",
    "    print(G.number_of_edges())\n",
    "    print(nx.density(G))\n",
    "    "
   ]
  },
  {
   "cell_type": "code",
   "execution_count": 575,
   "metadata": {},
   "outputs": [
    {
     "data": {
      "image/png": "[encoded data removed]",
      "text/plain": [
       "<Figure size 432x288 with 1 Axes>"
      ]
     },
     "metadata": {},
     "output_type": "display_data"
    },
    {
     "data": {
      "text/plain": [
       "<Figure size 1440x1440 with 0 Axes>"
      ]
     },
     "metadata": {},
     "output_type": "display_data"
    }
   ],
   "source": [
    "Initial_Set()\n",
    "Union_set()\n",
    "Plot_network(G)"
   ]
  },
  {
   "cell_type": "code",
   "execution_count": 576,
   "metadata": {},
   "outputs": [
    {
     "data": {
      "image/png": "[encoded data removed]",
      "text/plain": [
       "<Figure size 432x288 with 1 Axes>"
      ]
     },
     "metadata": {},
     "output_type": "display_data"
    },
    {
     "data": {
      "text/plain": [
       "<Figure size 1440x1440 with 0 Axes>"
      ]
     },
     "metadata": {},
     "output_type": "display_data"
    }
   ],
   "source": [
    "\"\"\"Al añadir new_death(), tiene problemas ya que las selecciones \n",
    "se hacían sobre números consecutivos. Al quitar números intermedios se dejan huecos, que \n",
    "al hacer la selección dan errores. \"\"\"\n",
    "\n",
    "while G.number_of_nodes()<20:\n",
    "    \n",
    "\n",
    "    # Elijo un nodo al azar de la red\n",
    "\n",
    "    #first = np.random.randint(G.number_of_nodes())\n",
    "    first = np.random.choice(G.nodes())\n",
    "\n",
    "\n",
    "    #print(first) \n",
    "    #print(G.edges(first))\n",
    "\n",
    "    # Elijo un nodo vecino\n",
    "\n",
    "    nodes_vecinos = list(G.neighbors(first))\n",
    "    nodes_out = list(set(G.nodes()) - set(nodes_vecinos))\n",
    "    \n",
    "    #nodes_out = list(G.nodes)\n",
    "    #print(nodes_vecinos)\n",
    "\n",
    "    # Si tiene vecinos, elijo un vecino. Si el vecino elegido es su pareja, tienen un nuevo nodo\n",
    "\n",
    "    if nodes_vecinos:\n",
    "        vecino = choice(nodes_vecinos)\n",
    "        #print(vecino)\n",
    "        if G.edges[first,vecino]['weight']>1.0:\n",
    "            #print('New_birth')\n",
    "            new_node = np.max(list(G.nodes()))+1\n",
    "            #print(new_node)\n",
    "            new_birth(new_node,first,vecino)\n",
    "            #Plot_network(G)\n",
    "            update_age()\n",
    "\n",
    "        else:\n",
    "            pass\n",
    "            #otro = choice(nodes_out)\n",
    "            #if G.node[first]['sex'] != G.node[otro]['sex']:\n",
    "            #    G.add_edge(otro, first, weight=1.5)\n",
    "\n",
    "\n",
    "    else:\n",
    "        second = np.random.choice(G.nodes())\n",
    "\n",
    "        if G.node[first]['sex'] != G.node[second]['sex']:\n",
    "            # Polygamy is permited \n",
    "            G.add_edge(second, first, weight=1.5)\n",
    "            \n",
    "    old_age=70\n",
    "    new_death(old_age)\n",
    "    \n",
    "    \n",
    "Plot_network(G)\n",
    "\n",
    "\n"
   ]
  },
  {
   "cell_type": "code",
   "execution_count": 577,
   "metadata": {},
   "outputs": [
    {
     "name": "stdout",
     "output_type": "stream",
     "text": [
      "[39, 39, 24, 24, 19, 19, 39, 39, 24, 24, 19, 19, 9, 8, 7, 6, 5, 4, 3, 2]\n",
      "18.6\n"
     ]
    },
    {
     "data": {
      "image/png": "[encoded data removed]",
      "text/plain": [
       "<Figure size 432x288 with 1 Axes>"
      ]
     },
     "metadata": {},
     "output_type": "display_data"
    },
    {
     "data": {
      "text/plain": [
       "<Figure size 1440x1440 with 0 Axes>"
      ]
     },
     "metadata": {},
     "output_type": "display_data"
    }
   ],
   "source": [
    "mediada = [G.node[i]['age'] for i in G.nodes]\n",
    "print(mediada)\n",
    "print(np.mean(mediada))\n",
    "Plot_network(G)"
   ]
  },
  {
   "cell_type": "code",
   "execution_count": 494,
   "metadata": {},
   "outputs": [
    {
     "data": {
      "image/png": "[encoded data removed]",
      "text/plain": [
       "<Figure size 432x288 with 1 Axes>"
      ]
     },
     "metadata": {},
     "output_type": "display_data"
    },
    {
     "data": {
      "text/plain": [
       "<Figure size 1440x1440 with 0 Axes>"
      ]
     },
     "metadata": {},
     "output_type": "display_data"
    }
   ],
   "source": [
    "Initial_Set()\n",
    "Union_set()\n",
    "Plot_network(G)"
   ]
  },
  {
   "cell_type": "code",
   "execution_count": 518,
   "metadata": {},
   "outputs": [
    {
     "name": "stdout",
     "output_type": "stream",
     "text": [
      "15\n",
      "[0, 1, 2, 3, 15, 16]\n",
      "[4, 5, 6, 7, 8, 9, 10, 11, 12, 13, 14, 17]\n",
      "3\n"
     ]
    },
    {
     "data": {
      "image/png": "[encoded data removed]",
      "text/plain": [
       "<Figure size 432x288 with 1 Axes>"
      ]
     },
     "metadata": {},
     "output_type": "display_data"
    },
    {
     "data": {
      "text/plain": [
       "<Figure size 1440x1440 with 0 Axes>"
      ]
     },
     "metadata": {},
     "output_type": "display_data"
    },
    {
     "name": "stdout",
     "output_type": "stream",
     "text": [
      "18\n",
      "33.166666666666664\n"
     ]
    }
   ],
   "source": [
    "first = np.random.choice(G.nodes())\n",
    "print(first)\n",
    "\n",
    "nodes_vecinos = list(G.neighbors(first))\n",
    "nodes_out = list(set(G.nodes()) - set(nodes_vecinos))\n",
    "    \n",
    "print(nodes_vecinos)\n",
    "print(nodes_out)\n",
    "\n",
    "if nodes_vecinos:\n",
    "    vecino = np.random.choice(nodes_vecinos)\n",
    "    print(vecino)\n",
    "    if G.edges[first,vecino]['weight']>1.0:\n",
    "        new_node = np.max(list(G.nodes()))+1\n",
    "        print(new_node)\n",
    "        new_birth(new_node,first,vecino)\n",
    "        \n",
    "    else:\n",
    "        pass\n",
    "else:\n",
    "    second = np.random.choice(G.nodes())\n",
    "\n",
    "    if G.node[first]['sex'] != G.node[second]['sex']:\n",
    "        # Polygamy is permited \n",
    "        G.add_edge(second, first, weight=1.5)\n",
    "                       \n",
    "update_age()\n",
    "Plot_network(G)\n",
    "new_death()\n",
    "print(G.number_of_nodes())\n",
    "mediada = [G.node[i]['age'] for i in G.nodes]\n",
    "print(np.mean(mediada))"
   ]
  },
  {
   "cell_type": "code",
   "execution_count": 503,
   "metadata": {},
   "outputs": [],
   "source": [
    "    if nodes_vecinos:\n",
    "        vecino = choice(nodes_vecinos)\n",
    "        #print(vecino)\n",
    "        if G.edges[first,vecino]['weight']>1.0:\n",
    "            #print('New_birth')\n",
    "            new_node = np.max(list(G.nodes()))+1\n",
    "            #print(new_node)\n",
    "            new_birth(new_node,first,vecino)\n",
    "            #Plot_network(G)\n",
    "\n",
    "        else:\n",
    "            pass\n",
    "            #otro = choice(nodes_out)\n",
    "            #if G.node[first]['sex'] != G.node[otro]['sex']:\n",
    "            #    G.add_edge(otro, first, weight=1.5)\n",
    "\n",
    "\n",
    "    else:\n",
    "        #second = np.random.randint(G.number_of_nodes())\n",
    "        second = np.random.choice(G.nodes())\n",
    "\n",
    "        if G.node[first]['sex'] != G.node[second]['sex']:\n",
    "            # Polygamy is permited \n",
    "            G.add_edge(second, first, weight=1.5)\n",
    "            \n",
    "    update_age()\n",
    "    new_death()\n",
    "    "
   ]
  },
  {
   "cell_type": "code",
   "execution_count": 363,
   "metadata": {},
   "outputs": [
    {
     "data": {
      "text/plain": [
       "NodeView((4, 8, 13, 14, 15, 16, 17, 18, 19, 20, 21, 22, 23, 24, 25))"
      ]
     },
     "execution_count": 363,
     "metadata": {},
     "output_type": "execute_result"
    }
   ],
   "source": [
    "G.nodes()"
   ]
  },
  {
   "cell_type": "code",
   "execution_count": 364,
   "metadata": {},
   "outputs": [
    {
     "data": {
      "text/plain": [
       "123"
      ]
     },
     "execution_count": 364,
     "metadata": {},
     "output_type": "execute_result"
    }
   ],
   "source": [
    "G.node[4]['age']"
   ]
  },
  {
   "cell_type": "code",
   "execution_count": 489,
   "metadata": {},
   "outputs": [
    {
     "name": "stdout",
     "output_type": "stream",
     "text": [
      "78.05263157894737\n",
      "78.05263157894737\n"
     ]
    }
   ],
   "source": [
    "media=[]\n",
    "for i in G.nodes():\n",
    "    media.append(G.node[i]['age'])\n",
    "print(np.mean(media))\n",
    "\n",
    "mediada = [G.node[i]['age'] for i in G.nodes]\n",
    "print(np.mean(mediada))"
   ]
  },
  {
   "cell_type": "code",
   "execution_count": 377,
   "metadata": {},
   "outputs": [
    {
     "name": "stdout",
     "output_type": "stream",
     "text": [
      "25\n"
     ]
    }
   ],
   "source": [
    "print(np.max(list(G.nodes())))"
   ]
  },
  {
   "cell_type": "code",
   "execution_count": 376,
   "metadata": {},
   "outputs": [
    {
     "data": {
      "text/plain": [
       "3"
      ]
     },
     "execution_count": 376,
     "metadata": {},
     "output_type": "execute_result"
    }
   ],
   "source": [
    "np.max([1,2,3])"
   ]
  },
  {
   "cell_type": "code",
   "execution_count": null,
   "metadata": {},
   "outputs": [],
   "source": []
  }
 ],
 "metadata": {
  "kernelspec": {
   "display_name": "Python 3",
   "language": "python",
   "name": "python3"
  },
  "language_info": {
   "codemirror_mode": {
    "name": "ipython",
    "version": 3
   },
   "file_extension": ".py",
   "mimetype": "text/x-python",
   "name": "python",
   "nbconvert_exporter": "python",
   "pygments_lexer": "ipython3",
   "version": "3.6.5"
  }
 },
 "nbformat": 4,
 "nbformat_minor": 2
}
