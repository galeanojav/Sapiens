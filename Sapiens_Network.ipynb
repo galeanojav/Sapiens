{
 "cells": [
  {
   "cell_type": "code",
   "execution_count": 1,
   "metadata": {},
   "outputs": [],
   "source": [
    "import numpy as np\n",
    "import networkx as nx\n",
    "from pylab import *"
   ]
  },
  {
   "cell_type": "code",
   "execution_count": 2,
   "metadata": {},
   "outputs": [],
   "source": [
    "def Initial_Set():\n",
    "    \n",
    "    global g\n",
    "    # Creating a new empty Graph object\n",
    "    g=nx.Graph()\n",
    "    \n",
    "    #adding a brunch of nodes at once\n",
    "    g.add_nodes_from(['Adan','Eva','Cain','Maria','Set','Magdalen'])\n",
    "    \n",
    "    #adding properties to the nodes\n",
    "    \n",
    "    g.node['Adan']['sex']='Male'\n",
    "    g.node['Eva']['sex']='Female'\n",
    "    g.node['Cain']['sex']='Male'\n",
    "    g.node['Maria']['sex']='Female'\n",
    "    g.node['Set']['sex']='Male'\n",
    "    g.node['Magdalen']['sex']='Female'\n",
    "\n",
    "    g.node['Adan']['age']=30\n",
    "    g.node['Eva']['age']=30\n",
    "    g.node['Cain']['age']=15\n",
    "    g.node['Maria']['age']=15\n",
    "    g.node['Set']['age']=10\n",
    "    g.node['Magdalen']['age']=10\n",
    "\n",
    "    \n",
    "    #adding edges\n",
    "    \n",
    "    g.add_edge('Adan', 'Eva', weight=1.5)\n",
    "    g.add_edge('Adan', 'Cain', weight=1.0)\n",
    "    g.add_edge('Adan', 'Maria', weight=1.0)\n",
    "    g.add_edge('Eva', 'Cain', weight=1.0)\n",
    "    g.add_edge('Eva', 'Maria', weight=1.0)\n",
    "    g.add_edge('Cain', 'Maria', weight=0.5)\n",
    "    \n",
    "\n"
   ]
  },
  {
   "cell_type": "code",
   "execution_count": 3,
   "metadata": {},
   "outputs": [],
   "source": [
    "def Union_set():\n",
    "    global g,h,G\n",
    "    h = g.copy()\n",
    "\n",
    "    G = nx.disjoint_union(g,h)\n",
    "\n",
    "    G.add_edge(3,6,weight=1.5)\n",
    "    update_age()\n",
    "    "
   ]
  },
  {
   "cell_type": "code",
   "execution_count": 4,
   "metadata": {},
   "outputs": [],
   "source": [
    "def update_age():\n",
    "    global G\n",
    "    for i in G.node:\n",
    "        G.node[i]['age'] +=1\n"
   ]
  },
  {
   "cell_type": "code",
   "execution_count": 5,
   "metadata": {},
   "outputs": [],
   "source": [
    "def Plot_network(G):\n",
    "\n",
    "    elarge = [(u, v) for (u, v, d) in G.edges(data=True) if d['weight'] > 1.0]\n",
    "    emedium = [(u, v) for (u, v, d) in G.edges(data=True) if d['weight'] == 1.0]\n",
    "    esmall = [(u, v) for (u, v, d) in G.edges(data=True) if d['weight'] < 1.0]\n",
    "    node_c = ['b' if G.node[i]['sex']=='Male' else 'r' for i in G.node]\n",
    "    node_s = [G.node[i]['age'] for i in G.node]\n",
    "\n",
    "    pos = nx.spring_layout(G)\n",
    "\n",
    "\n",
    "# nodes\n",
    "    nx.draw_networkx_nodes(G, pos, node_size=node_s, node_color = node_c)\n",
    "\n",
    "\n",
    "# edges\n",
    "    nx.draw_networkx_edges(G, pos, edgelist=elarge,width=4)\n",
    "    nx.draw_networkx_edges(G, pos, edgelist=emedium,\n",
    "                       width=3, alpha=0.5, edge_color='b', style='solid')\n",
    "    nx.draw_networkx_edges(G, pos, edgelist=esmall,\n",
    "                       width=2, alpha=0.3, edge_color='g', style='dashed')\n",
    "\n",
    "# labels\n",
    "    #nx.draw_networkx_labels(G, pos, font_size=12, font_family='sans-serif')\n",
    "\n",
    "    axis('off')\n",
    "    title('First Spaiens families')\n",
    "    figure(figsize=(20, 20));\n",
    "    show()\n"
   ]
  },
  {
   "cell_type": "code",
   "execution_count": 6,
   "metadata": {},
   "outputs": [],
   "source": [
    "def new_birth(new_node,first,vecino):\n",
    "    \"\"\"function to make a new baby. Need to intoduce the siblings edges\"\"\"\n",
    "    \n",
    "    G.add_node(new_node)\n",
    "    G.node[new_node]['sex']=choice(['Male','Female'])\n",
    "    G.node[new_node]['age']=10\n",
    "    G.add_edge(new_node, first, weight=1.0)\n",
    "    G.add_edge(new_node, vecino, weight=1.0)\n",
    "    \n",
    "    # Buscamos hermanos \n",
    "    \n",
    "    siblings =list(set(G.neighbors(first)) & set(G.neighbors(vecino)))\n",
    "    if siblings:\n",
    "        for i in siblings:\n",
    "            G.add_edge(new_node,i, weight=0.5)\n",
    "\n",
    "    "
   ]
  },
  {
   "cell_type": "code",
   "execution_count": 7,
   "metadata": {},
   "outputs": [
    {
     "data": {
      "image/png": "[encoded data removed]",
      "text/plain": [
       "<Figure size 432x288 with 1 Axes>"
      ]
     },
     "metadata": {},
     "output_type": "display_data"
    },
    {
     "data": {
      "text/plain": [
       "<Figure size 1440x1440 with 0 Axes>"
      ]
     },
     "metadata": {},
     "output_type": "display_data"
    }
   ],
   "source": [
    "Initial_Set()\n",
    "Union_set()\n",
    "Plot_network(G)"
   ]
  },
  {
   "cell_type": "code",
   "execution_count": 8,
   "metadata": {},
   "outputs": [
    {
     "name": "stdout",
     "output_type": "stream",
     "text": [
      "6\n",
      "12\n",
      "6\n",
      "13\n",
      "0.19696969696969696\n"
     ]
    }
   ],
   "source": [
    "print(g.number_of_nodes())\n",
    "print(G.number_of_nodes())\n",
    "\n",
    "print(g.number_of_edges())\n",
    "print(G.number_of_edges())\n",
    "\n",
    "print(nx.density(G))"
   ]
  },
  {
   "cell_type": "code",
   "execution_count": 9,
   "metadata": {},
   "outputs": [
    {
     "data": {
      "image/png": "[encoded data removed]",
      "text/plain": [
       "<Figure size 432x288 with 1 Axes>"
      ]
     },
     "metadata": {},
     "output_type": "display_data"
    },
    {
     "data": {
      "text/plain": [
       "<Figure size 1440x1440 with 0 Axes>"
      ]
     },
     "metadata": {},
     "output_type": "display_data"
    }
   ],
   "source": [
    "while G.number_of_nodes()<30:\n",
    "    \n",
    "\n",
    "    # Elijo un nodo al azar de la red\n",
    "\n",
    "    first = np.random.randint(G.number_of_nodes())\n",
    "\n",
    "    #print(first) \n",
    "    #print(G.edges(first))\n",
    "\n",
    "    # Elijo un nodo vecino\n",
    "\n",
    "    nodes_vecinos = list(G.neighbors(first))\n",
    "    nodes_out = list(set(G.nodes()) - set(nodes_vecinos))\n",
    "    \n",
    "    #nodes_out = list(G.nodes)\n",
    "    #print(nodes_vecinos)\n",
    "\n",
    "    # Si tiene vecinos, elijo un vecino. Si el vecino elegido es su pareja, tienen un nuevo nodo\n",
    "\n",
    "    if nodes_vecinos:\n",
    "        vecino = choice(nodes_vecinos)\n",
    "        #print(vecino)\n",
    "        if G.edges[first,vecino]['weight']>1.0:\n",
    "            #print('New_birth')\n",
    "            new_node = G.number_of_nodes()\n",
    "            #print(new_node)\n",
    "            new_birth(new_node,first,vecino)\n",
    "            #Plot_network(G)\n",
    "\n",
    "        else:\n",
    "            pass\n",
    "            #otro = choice(nodes_out)\n",
    "            #if G.node[first]['sex'] != G.node[otro]['sex']:\n",
    "            #    G.add_edge(otro, first, weight=1.5)\n",
    "\n",
    "\n",
    "    else:\n",
    "        second = np.random.randint(G.number_of_nodes())\n",
    "\n",
    "        if G.node[first]['sex'] != G.node[second]['sex']:\n",
    "            # Polygamy is permited \n",
    "            G.add_edge(second, first, weight=1.5)\n",
    "            \n",
    "    update_age()    \n",
    "    \n",
    "Plot_network(G)\n",
    "\n",
    "\n"
   ]
  },
  {
   "cell_type": "code",
   "execution_count": 25,
   "metadata": {},
   "outputs": [
    {
     "data": {
      "text/plain": [
       "30"
      ]
     },
     "execution_count": 25,
     "metadata": {},
     "output_type": "execute_result"
    }
   ],
   "source": [
    "G.number_of_nodes()"
   ]
  },
  {
   "cell_type": "code",
   "execution_count": null,
   "metadata": {},
   "outputs": [],
   "source": []
  }
 ],
 "metadata": {
  "kernelspec": {
   "display_name": "Python 3",
   "language": "python",
   "name": "python3"
  },
  "language_info": {
   "codemirror_mode": {
    "name": "ipython",
    "version": 3
   },
   "file_extension": ".py",
   "mimetype": "text/x-python",
   "name": "python",
   "nbconvert_exporter": "python",
   "pygments_lexer": "ipython3",
   "version": "3.6.5"
  }
 },
 "nbformat": 4,
 "nbformat_minor": 2
}
